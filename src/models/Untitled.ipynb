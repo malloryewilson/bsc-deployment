{
 "cells": [
  {
   "cell_type": "code",
   "execution_count": 2,
   "id": "3194757e-b591-4230-96b2-83a77ebfe1a0",
   "metadata": {},
   "outputs": [],
   "source": [
    "import pandas as pd\n",
    "import numpy as np"
   ]
  },
  {
   "cell_type": "code",
   "execution_count": 11,
   "id": "34d84523-f00c-4785-bb73-e5e9cbe33604",
   "metadata": {},
   "outputs": [],
   "source": [
    "ratings_matrix = pd.read_csv('ratings_matrix.csv').set_index('userId')\n",
    "ratings_data = pd.read_csv('dataframe.csv').set_index('title')"
   ]
  },
  {
   "cell_type": "code",
   "execution_count": 12,
   "id": "d5ce3d02-0fdf-4757-b814-88a6eadbb3a1",
   "metadata": {},
   "outputs": [],
   "source": [
    "def movie_recommendations(movie_name):\n",
    "    user_ratings = ratings_matrix[movie_name]\n",
    "    correlation_with_movie = pd.DataFrame(ratings_matrix.corrwith(user_ratings))\n",
    "    correlation_with_movie = correlation_with_movie.join(ratings_data['# of ratings'])\n",
    "    correlation_with_movie.columns = [f'Corr. With {movie_name}', '# of Ratings']\n",
    "    correlation_with_movie.index.names = ['Movie Title']\n",
    "    return correlation_with_movie[correlation_with_movie['# of Ratings'] > 50].sort_values(f'Corr. With {movie_name}', ascending = False).iloc[1:,:].head(10)"
   ]
  },
  {
   "cell_type": "code",
   "execution_count": 14,
   "id": "18d8d06d-c76b-4741-b0c0-5608ae629d36",
   "metadata": {},
   "outputs": [
    {
     "name": "stderr",
     "output_type": "stream",
     "text": [
      "/Users/mallorywilson/opt/anaconda3/envs/flatiron/lib/python3.8/site-packages/numpy/lib/function_base.py:2551: RuntimeWarning: Degrees of freedom <= 0 for slice\n",
      "  c = cov(x, y, rowvar)\n",
      "/Users/mallorywilson/opt/anaconda3/envs/flatiron/lib/python3.8/site-packages/numpy/lib/function_base.py:2480: RuntimeWarning: divide by zero encountered in true_divide\n",
      "  c *= np.true_divide(1, fact)\n"
     ]
    }
   ],
   "source": [
    "d = movie_recommendations('Harry Potter and the Chamber of Secrets (2002)')"
   ]
  },
  {
   "cell_type": "code",
   "execution_count": 22,
   "id": "5f3c7986-85d5-446c-af73-14711e61a4fe",
   "metadata": {},
   "outputs": [
    {
     "name": "stdout",
     "output_type": "stream",
     "text": [
      "Harry Potter and the Sorcerer's Stone (a.k.a. Harry Potter and the Philosopher's Stone) (2001)\n",
      "Harry Potter and the Order of the Phoenix (2007)\n",
      "Harry Potter and the Half-Blood Prince (2009)\n",
      "Harry Potter and the Goblet of Fire (2005)\n",
      "Harry Potter and the Prisoner of Azkaban (2004)\n",
      "Star Trek (2009)\n",
      "Pretty Woman (1990)\n",
      "28 Days Later (2002)\n",
      "How to Train Your Dragon (2010)\n",
      "Deadpool (2016)\n"
     ]
    }
   ],
   "source": [
    "for row in d.reset_index().values:\n",
    "    print(row[0])"
   ]
  },
  {
   "cell_type": "code",
   "execution_count": 10,
   "id": "48dff00b-694c-4c79-8db6-88b178410926",
   "metadata": {},
   "outputs": [
    {
     "data": {
      "text/html": [
       "<div>\n",
       "<style scoped>\n",
       "    .dataframe tbody tr th:only-of-type {\n",
       "        vertical-align: middle;\n",
       "    }\n",
       "\n",
       "    .dataframe tbody tr th {\n",
       "        vertical-align: top;\n",
       "    }\n",
       "\n",
       "    .dataframe thead th {\n",
       "        text-align: right;\n",
       "    }\n",
       "</style>\n",
       "<table border=\"1\" class=\"dataframe\">\n",
       "  <thead>\n",
       "    <tr style=\"text-align: right;\">\n",
       "      <th></th>\n",
       "      <th>rating</th>\n",
       "      <th>movieId</th>\n",
       "      <th>userId</th>\n",
       "      <th># of ratings</th>\n",
       "    </tr>\n",
       "    <tr>\n",
       "      <th>title</th>\n",
       "      <th></th>\n",
       "      <th></th>\n",
       "      <th></th>\n",
       "      <th></th>\n",
       "    </tr>\n",
       "  </thead>\n",
       "  <tbody>\n",
       "    <tr>\n",
       "      <th>'71 (2014)</th>\n",
       "      <td>4.0</td>\n",
       "      <td>117867.0</td>\n",
       "      <td>610.0</td>\n",
       "      <td>1</td>\n",
       "    </tr>\n",
       "    <tr>\n",
       "      <th>'Hellboy': The Seeds of Creation (2004)</th>\n",
       "      <td>4.0</td>\n",
       "      <td>97757.0</td>\n",
       "      <td>332.0</td>\n",
       "      <td>1</td>\n",
       "    </tr>\n",
       "    <tr>\n",
       "      <th>'Round Midnight (1986)</th>\n",
       "      <td>3.5</td>\n",
       "      <td>26564.0</td>\n",
       "      <td>354.5</td>\n",
       "      <td>2</td>\n",
       "    </tr>\n",
       "    <tr>\n",
       "      <th>'Salem's Lot (2004)</th>\n",
       "      <td>5.0</td>\n",
       "      <td>27751.0</td>\n",
       "      <td>345.0</td>\n",
       "      <td>1</td>\n",
       "    </tr>\n",
       "    <tr>\n",
       "      <th>'Til There Was You (1997)</th>\n",
       "      <td>4.0</td>\n",
       "      <td>779.0</td>\n",
       "      <td>229.0</td>\n",
       "      <td>2</td>\n",
       "    </tr>\n",
       "  </tbody>\n",
       "</table>\n",
       "</div>"
      ],
      "text/plain": [
       "                                         rating   movieId  userId  \\\n",
       "title                                                               \n",
       "'71 (2014)                                  4.0  117867.0   610.0   \n",
       "'Hellboy': The Seeds of Creation (2004)     4.0   97757.0   332.0   \n",
       "'Round Midnight (1986)                      3.5   26564.0   354.5   \n",
       "'Salem's Lot (2004)                         5.0   27751.0   345.0   \n",
       "'Til There Was You (1997)                   4.0     779.0   229.0   \n",
       "\n",
       "                                         # of ratings  \n",
       "title                                                  \n",
       "'71 (2014)                                          1  \n",
       "'Hellboy': The Seeds of Creation (2004)             1  \n",
       "'Round Midnight (1986)                              2  \n",
       "'Salem's Lot (2004)                                 1  \n",
       "'Til There Was You (1997)                           2  "
      ]
     },
     "execution_count": 10,
     "metadata": {},
     "output_type": "execute_result"
    }
   ],
   "source": [
    "ratings_data.set_index('title').head()"
   ]
  },
  {
   "cell_type": "code",
   "execution_count": null,
   "id": "edbbdfe7-3369-480d-9862-8a30cc110dae",
   "metadata": {},
   "outputs": [],
   "source": []
  }
 ],
 "metadata": {
  "kernelspec": {
   "display_name": "flatiron",
   "language": "python",
   "name": "flatiron"
  },
  "language_info": {
   "codemirror_mode": {
    "name": "ipython",
    "version": 3
   },
   "file_extension": ".py",
   "mimetype": "text/x-python",
   "name": "python",
   "nbconvert_exporter": "python",
   "pygments_lexer": "ipython3",
   "version": "3.8.10"
  }
 },
 "nbformat": 4,
 "nbformat_minor": 5
}
